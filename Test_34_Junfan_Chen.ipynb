{
 "cells": [
  {
   "cell_type": "code",
   "execution_count": 1,
   "id": "40cff7e5",
   "metadata": {},
   "outputs": [],
   "source": [
    "def read_In(fileName):\n",
    "    with open(fileName, 'r') as f:\n",
    "        composition = f.readlines()\n",
    "    n = len(composition)\n",
    "    for i in range(n):\n",
    "        if composition[i][-1] == '\\n':\n",
    "            composition[i] = composition[i][:-1]\n",
    "    composition.sort()\n",
    "    return composition"
   ]
  },
  {
   "cell_type": "code",
   "execution_count": 2,
   "id": "2ae3b97b",
   "metadata": {},
   "outputs": [],
   "source": [
    "def split_Graph(graph):\n",
    "    n = len(graph)\n",
    "    prefix = [0] * n\n",
    "    surffix = [0] * n\n",
    "    for i in range(n):\n",
    "        prefix[i], surffix[i] = graph[i].strip().split('|')\n",
    "    return prefix, surffix"
   ]
  },
  {
   "cell_type": "code",
   "execution_count": 3,
   "id": "21471b50",
   "metadata": {},
   "outputs": [],
   "source": [
    "def graph_to_dictionary(prefix, surffix):\n",
    "    n = len(prefix)\n",
    "    dictionary = {}\n",
    "    for i in range(n):\n",
    "        if prefix[i] not in dictionary.keys():\n",
    "            dictionary[(prefix[i][:-1], surffix[i][:-1])] = (prefix[i][1:], surffix[i][1:])\n",
    "        else:\n",
    "            dictionary[(prefix[i][:-1], surffix[i][:-1])].append((prefix[i][1:], surffix[i][1:]))\n",
    "    return dictionary"
   ]
  },
  {
   "cell_type": "code",
   "execution_count": 4,
   "id": "b814b269",
   "metadata": {},
   "outputs": [],
   "source": [
    "def DeBruijnGraph(composition, k):\n",
    "    prefix_dictionary = {}\n",
    "    # n = len(composition)\n",
    "    \n",
    "    for keys in composition.keys():\n",
    "        if keys not in prefix_dictionary.keys():\n",
    "            prefix_dictionary[keys] = [composition[keys]]\n",
    "        else:\n",
    "            prefix_dictionary[keys] += [composition[keys]]\n",
    "    return prefix_dictionary"
   ]
  },
  {
   "cell_type": "code",
   "execution_count": 5,
   "id": "e9cec206",
   "metadata": {},
   "outputs": [],
   "source": [
    "def remove_edge(dictionary, from_node, to_node):\n",
    "    \n",
    "    dictionary[from_node].remove(to_node)\n",
    "    if not dictionary[from_node]:\n",
    "        del dictionary[from_node]\n",
    "    return dictionary"
   ]
  },
  {
   "cell_type": "code",
   "execution_count": 6,
   "id": "43073555",
   "metadata": {},
   "outputs": [],
   "source": [
    "from random import choice\n",
    "def find_New_Cycle(dictionary):\n",
    "    \n",
    "    # Randomly choose a starting point\n",
    "    start_node, edges = choice(list(dictionary.items()))\n",
    "    target_node = choice(edges)\n",
    "    dictionary = remove_edge(dictionary, start_node, target_node)\n",
    "    \n",
    "    cycle = [start_node, target_node]\n",
    "\n",
    "    current_node = target_node\n",
    "    \n",
    "    while current_node != start_node:\n",
    "        edges = dictionary[current_node]\n",
    "        # extract one element in edges (if more than one nodes inside)\n",
    "        target_node = choice(edges)\n",
    "        dictionary = remove_edge(dictionary, current_node, target_node)\n",
    "        current_node = target_node\n",
    "        cycle.append(current_node)\n",
    "        # print(cycle)\n",
    "    return cycle"
   ]
  },
  {
   "cell_type": "code",
   "execution_count": 7,
   "id": "d07b27f1",
   "metadata": {},
   "outputs": [],
   "source": [
    "def find_Eulerian_Cycle(dictionary):\n",
    "\n",
    "    cycle = find_New_Cycle(dictionary)\n",
    "    \n",
    "    # while dictionary is not empty, do the while loop\n",
    "    while dictionary:\n",
    "        # search for node with unused egdes in dictionary\n",
    "        potential_starts = [(index, node) for index, node in enumerate(cycle) if node in dictionary]\n",
    "        \n",
    "        index, new_start = choice(potential_starts)\n",
    "        print(new_start)\n",
    "        # form new cycle:\n",
    "        # start at new_start node chosen above and then randomly walking\n",
    "        new_cycle = cycle[index:] + cycle[1 : index + 1]   # change start node of the existing cycle\n",
    "\n",
    "        target_node = choice(dictionary[new_start])\n",
    "        dictionary = remove_edge(dictionary, new_start, target_node)\n",
    "        current_node = target_node\n",
    "        new_cycle.append(current_node)\n",
    "        \n",
    "        while current_node != new_start:\n",
    "            edges = dictionary[current_node]\n",
    "            target_node = choice(edges)\n",
    "            dictionary = remove_edge(dictionary, current_node, target_node)\n",
    "            current_node = target_node\n",
    "            new_cycle.append(current_node)\n",
    "        cycle = new_cycle\n",
    "    # cycle = cycle[:(- k + 1)]\n",
    "    return cycle"
   ]
  },
  {
   "cell_type": "code",
   "execution_count": 8,
   "id": "423d1972",
   "metadata": {},
   "outputs": [],
   "source": [
    "def find_Eulerian_Path(dictionary):\n",
    "    \n",
    "    # Define a dictionary to discern which nodes have unbalanced degrees\n",
    "    degree_difference = {}\n",
    "    for initial_node, end_nodes in dictionary.items():\n",
    "        if initial_node in degree_difference:\n",
    "            degree_difference[initial_node] += len(end_nodes)\n",
    "        else:\n",
    "            degree_difference[initial_node] = len(end_nodes)\n",
    "        for end_node in end_nodes:\n",
    "            if tuple(end_node) in degree_difference:\n",
    "                degree_difference[tuple(end_node)] -= 1\n",
    "            else:\n",
    "                degree_difference[tuple(end_node)] = -1\n",
    "    # print(degree_difference)                \n",
    "    node_wo_outdegree = [node for node, difference in degree_difference.items() if difference == -1][0]\n",
    "    node_wo_indegree = [node for node, difference in degree_difference.items() if difference == 1][0]\n",
    "    # print('node wo outdegree:', node_wo_outdegree)\n",
    "    # print('node wo indegree: ', node_wo_indegree)\n",
    "    if node_wo_outdegree in dictionary:\n",
    "        dictionary[node_wo_outdegree].append([node_wo_indegree])\n",
    "    else:\n",
    "        dictionary[node_wo_outdegree] = [node_wo_indegree]\n",
    "        \n",
    "    cycle = find_Eulerian_Cycle(dictionary)\n",
    "    cc = cycle\n",
    "    index = 0\n",
    "    \n",
    "    # Modeify the cycle generated and reshape it as:\n",
    "    # node_without_indegree -> cycle -> node_without_ooutdegree\n",
    "    while True:\n",
    "        if cycle[index] == node_wo_outdegree and cycle[index + 1] == node_wo_indegree:\n",
    "            break\n",
    "        index += 1\n",
    "    return cycle[index + 1:] + cycle[1:index + 1]"
   ]
  },
  {
   "cell_type": "code",
   "execution_count": 9,
   "id": "8dbd07c5",
   "metadata": {},
   "outputs": [],
   "source": [
    "def cycle_to_string(eulerian_cycle, k, d):\n",
    "    n = len(eulerian_cycle)\n",
    "    string_1 = []\n",
    "    string_2 = []\n",
    "    for i in range(k - 1 - 1):\n",
    "        string_1.append(eulerian_cycle[0][0][i])\n",
    "        string_2.append(eulerian_cycle[0][1][i])\n",
    "    for j in range(n):\n",
    "        string_1.append(eulerian_cycle[j][0][-1])\n",
    "        string_2.append(eulerian_cycle[j][1][-1])\n",
    "    # print('string_1: ', string_1)\n",
    "    # print('string_2: ', string_2)\n",
    "    n_s = len(string_2)\n",
    "    string = string_1 + string_2[n_s - k - d:]\n",
    "    string = ''.join(string)\n",
    "    return string"
   ]
  },
  {
   "cell_type": "code",
   "execution_count": 14,
   "id": "c0667070",
   "metadata": {},
   "outputs": [
    {
     "name": "stdout",
     "output_type": "stream",
     "text": [
      "ACCCGGTGGAGAAGTTAGATACGAGCTTACAGAGCCCTCGACTATCTTTTCCTTGCATGCTCGATCATCTTGGTATCCCGGGGTTAGGTCTGAGCCACATCTCTGCATAAATGTATTTCTAGCATAGACCTTTTTCAAGGGTCGCAAGGTCCTGATCACCCTCCTGACGAATAGTGCCACTGGATAAGCTACTCTAATGATGACGGCTAGATCCTAGCGCGCTAAGTTCGCATCGCAAGGTCCTGATCACCCTCCTGACGAATAGTGCCACTGGATAATCGCAAGGTCCTGATCACCCTCCTGACGAATAGTGCCACTGGATAAGCTAGCTAAGGTCCTGATCACCCTCCTGACGAATAGTGCCACTGGATAAGCTTCGCAAGGTCCTGATCACCCTCCTGACGAATAGTGCCACTGGATAAGCTAACTGAAAAGTCGCAAGGTCCTGATCACCCTCCTGACGAATAGTGCCACTGGATAAGCTAGCGAGCTTGAGGCCTCAACTCGGACAGTCGCAAGGTCCTGATCACCCTCCTGACGAATAGTGCCACTGGATAAGCTACTCAGGGTAGGCGCCCCTAGCGCATTCCATCACTAGAGCCTGGAACAGGCGGACGGCACTCGGCAGTAATTCGTCCTTCTACCGACGATCTCGCAAGGTCCTGATCACCCTCCTGACGAATAGTGCCACTGGATAAGCTACTGCTCTAAGGAGCAATCAGTCAAAGTCTCTCTTGCAAGGCCAAAACGGCGTCGCAAGGTCCTGATCACCCTCCTGACGAATAGTGCCACTGGATAAGCTACATCCCGGGACTTTTGAAACGTCAACTAGTCGCAAGGTCCTGATCACCCTCCTGACGAATAGTGCCACTGGATAAGCTACCCGATGGTAAAGTCATTGGGATAGTTCCTACGCGCAGCCTTGGATCTAACAAAGGATCTTGTCAAGTACAGTCAGCCCGTGGCATCCCGCTATGCTAGCACTGTACAGTAGTCAATCGCAAGGTCCTGATCACCCTCCTGACGAATAGTGCCACTGGTCGCAAGGTCCTGATCACCCTCCTGACGAATAGTGCCACTGGATAAGCTAATAAGCTACCTCTCTCGAACCTCGCAAGGTCCTGATTCGCAAGGTCCTGATCACCCTCCTTCGCAAGGTCCTGATCACCCTCCTGACGAATAGTGCCACTGGATAAGCTAGACGAATAGTGCCACTGGATAAGCTACACCCTCCTGACGAATAGTGCCACTGGATAAGCTAGGACAAAGGTGGACGCCTGCTACTAGATCAGTCTTTATTTCGCAAGGTCCTGATCACCCTCCTGACGAATAGTGCCACTGGATAAGCTACCCACTATCGTGACAGCTTCTTTCCCTTTCAATAATACTAGCTAGAGGACGCAGCAAAAGTCTACACTTCGAACACTAGCGAGAGGGCCATAGTCCCACGCTGGAAACCGAAAGGTGACATAGTTTCAAGGGAGGTCCGAATGCATGGAATGATGTGCTAGTTTCCGCACTTACGAATATCTCGCATAGACCGTGGCAATAATGTACGTGCCAGTTCCTCGAGGGTCGCAAGGTCCTGATCACCCTCCTGACGAATAGTGCCACTGGATAAGCTAATCGCAAGGTCCTGATCACCTCGCAAGGTCCTGATCACCCTCCTGACGAATAGTGCCACTGGATAAGCTACTCCTGACGAATAGTGCCACTGGATAAGCTACCTGTTGTAACAGCAGTTTTCAGTCGTAGCGCGAATTATACTGCGCTAGACTTCCGAGCTGCCGGGCCCCGAATTGACGCCGCGGATAATACCGCAGGTGCCCCATCGCAAGGTCCTGATCACCCTCCTGACGAATAGTGCCACTGGATAAGCTATACCCTCTTACTAAAATACTGATTAACGGCTACGAGACTCCGCAGGGGACGATATATGTCTAATATTAACACGTTCTCCGAATCTCGTAATTGGGATTCGGCGCCATGGGCGCGTGCCG\n"
     ]
    }
   ],
   "source": [
    "if __name__ == '__main__':\n",
    "    k = 50\n",
    "    d = 200\n",
    "    graph = read_In('rtext.txt')\n",
    "    prefix, surffix = split_Graph(graph)\n",
    "    composition = graph_to_dictionary(prefix, surffix)\n",
    "    DeBruijn = DeBruijnGraph(composition, k)\n",
    "    eulerian_cycle = find_Eulerian_Path(DeBruijn)\n",
    "    string = cycle_to_string(eulerian_cycle, k, d)\n",
    "    print(string)"
   ]
  }
 ],
 "metadata": {
  "kernelspec": {
   "display_name": "Python 3",
   "language": "python",
   "name": "python3"
  },
  "language_info": {
   "codemirror_mode": {
    "name": "ipython",
    "version": 3
   },
   "file_extension": ".py",
   "mimetype": "text/x-python",
   "name": "python",
   "nbconvert_exporter": "python",
   "pygments_lexer": "ipython3",
   "version": "3.8.8"
  }
 },
 "nbformat": 4,
 "nbformat_minor": 5
}
