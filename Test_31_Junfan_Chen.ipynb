{
 "cells": [
  {
   "cell_type": "code",
   "execution_count": 1,
   "id": "40cff7e5",
   "metadata": {},
   "outputs": [],
   "source": [
    "def generate_composition(k):\n",
    "    composition = []\n",
    "    number_of_k_mer = 2 ** k\n",
    "    \n",
    "    for i in range(number_of_k_mer):\n",
    "        k_mer = str(bin(i))[2:]\n",
    "        if len(k_mer) != k:\n",
    "            k_mer = '0' * (k - len(k_mer)) + k_mer\n",
    "        composition.append(k_mer)\n",
    "        \n",
    "    return composition"
   ]
  },
  {
   "cell_type": "code",
   "execution_count": 2,
   "id": "b814b269",
   "metadata": {},
   "outputs": [],
   "source": [
    "def DeBruijnGraph(composition, k):\n",
    "    prefix_dictionary = {}\n",
    "    n = len(composition)\n",
    "    \n",
    "    for i in range(n):\n",
    "        if composition[i][:-1] not in prefix_dictionary.keys():\n",
    "            prefix_dictionary[composition[i][:-1]] = [composition[i][1:]]\n",
    "        else:\n",
    "            prefix_dictionary[composition[i][:-1]] += [composition[i][1:]]\n",
    "    return prefix_dictionary"
   ]
  },
  {
   "cell_type": "code",
   "execution_count": 3,
   "id": "e9cec206",
   "metadata": {},
   "outputs": [],
   "source": [
    "def remove_edge(dictionary, from_node, to_node):\n",
    "    dictionary[from_node].remove(to_node)\n",
    "    if not dictionary[from_node]:\n",
    "        del dictionary[from_node]\n",
    "    return dictionary"
   ]
  },
  {
   "cell_type": "code",
   "execution_count": 4,
   "id": "43073555",
   "metadata": {},
   "outputs": [],
   "source": [
    "from random import choice\n",
    "def find_New_Cycle(dictionary):\n",
    "    \n",
    "    # Randomly choose a starting point\n",
    "    start_node, edges = choice(list(dictionary.items()))\n",
    "    target_node = choice(edges)\n",
    "    dictionary = remove_edge(dictionary, start_node, target_node)\n",
    "\n",
    "    cycle = [start_node, target_node]\n",
    "    # print(cycle)\n",
    "    current_node = target_node\n",
    "    while current_node != start_node:\n",
    "        edges = dictionary[current_node]\n",
    "        # extract one element in edges (if more than one nodes inside)\n",
    "        target_node = choice(edges)\n",
    "        dictionary = remove_edge(dictionary, current_node, target_node)\n",
    "        current_node = target_node\n",
    "        cycle.append(current_node)\n",
    "        # print(cycle)\n",
    "    return cycle"
   ]
  },
  {
   "cell_type": "code",
   "execution_count": 5,
   "id": "d07b27f1",
   "metadata": {},
   "outputs": [],
   "source": [
    "def find_Eulerian_Cycle(dictionary):\n",
    "\n",
    "    cycle = find_New_Cycle(dictionary)\n",
    "    \n",
    "    # while dictionary is not empty, do the while loop\n",
    "    while dictionary:\n",
    "        # search for node with unused egdes in dictionary\n",
    "        potential_starts = [(index, node) for index, node in enumerate(cycle) if node in dictionary]\n",
    "        index, new_start = choice(potential_starts)\n",
    "\n",
    "        # form new cycle:\n",
    "        # start at new_start node chosen above and then randomly walking\n",
    "        new_cycle = cycle[index:] + cycle[1 : index + 1]   # change start node of the existing cycle\n",
    "\n",
    "        target_node = choice(dictionary[new_start])\n",
    "        dictionary = remove_edge(dictionary, new_start, target_node)\n",
    "        current_node = target_node\n",
    "        new_cycle.append(current_node)\n",
    "        \n",
    "        while current_node != new_start:\n",
    "            edges = dictionary[current_node]\n",
    "            target_node = choice(edges)\n",
    "            dictionary = remove_edge(dictionary, current_node, target_node)\n",
    "            current_node = target_node\n",
    "            new_cycle.append(current_node)\n",
    "        cycle = new_cycle\n",
    "    cycle = cycle[:(- k + 1)]\n",
    "    return cycle"
   ]
  },
  {
   "cell_type": "code",
   "execution_count": 6,
   "id": "8dbd07c5",
   "metadata": {},
   "outputs": [],
   "source": [
    "def modify_cycle(eulerian_cycle):\n",
    "    n = len(eulerian_cycle)\n",
    "    string = [eulerian_cycle[0][:-1]]\n",
    "    for i in range(n):\n",
    "        string.append(eulerian_cycle[i][-1])\n",
    "    string = ''.join(string)\n",
    "    return string"
   ]
  },
  {
   "cell_type": "code",
   "execution_count": 9,
   "id": "c0667070",
   "metadata": {},
   "outputs": [
    {
     "name": "stdout",
     "output_type": "stream",
     "text": [
      "10101010010010001100011001011101111011101100110011111000111000000100000100101101011000001111000001011100100110010000000001010001111110010001011011010101100111011011111101000110100111101100001111101010000110111100111100101100011110100100001110111001100000001110010100000110011010001010010111100010101110001001101011101001100010111110011011001001010110100101001110100001001111111110111110110100000011010100110111010111101011011100001000100001011001010101111111000011000010101000100100111001110001101101100010001110\n"
     ]
    }
   ],
   "source": [
    "if __name__ == '__main__':\n",
    "    k = 9\n",
    "    composition = generate_composition(k)\n",
    "    DeBruijn = DeBruijnGraph(composition, k)\n",
    "    eulerian_cycle = find_Eulerian_Cycle(DeBruijn)\n",
    "    string = modify_cycle(eulerian_cycle)\n",
    "    print(string)"
   ]
  }
 ],
 "metadata": {
  "kernelspec": {
   "display_name": "Python 3",
   "language": "python",
   "name": "python3"
  },
  "language_info": {
   "codemirror_mode": {
    "name": "ipython",
    "version": 3
   },
   "file_extension": ".py",
   "mimetype": "text/x-python",
   "name": "python",
   "nbconvert_exporter": "python",
   "pygments_lexer": "ipython3",
   "version": "3.8.8"
  }
 },
 "nbformat": 4,
 "nbformat_minor": 5
}
