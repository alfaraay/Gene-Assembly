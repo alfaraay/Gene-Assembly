{
 "cells": [
  {
   "cell_type": "code",
   "execution_count": null,
   "id": "add3c4ad",
   "metadata": {},
   "outputs": [],
   "source": [
    "def read_In(fileName):\n",
    "    with open(fileName, 'r') as f:\n",
    "        composition = f.readlines()\n",
    "    n = len(composition)\n",
    "    for i in range(n):\n",
    "        if composition[i][-1] == '\\n':\n",
    "            composition[i] = composition[i][:-1]\n",
    "    composition.sort()\n",
    "    return composition"
   ]
  },
  {
   "cell_type": "code",
   "execution_count": null,
   "id": "0078da0e",
   "metadata": {},
   "outputs": [],
   "source": [
    "def split_Graph(graph):\n",
    "    n = len(graph)\n",
    "    prefix = [0] * n\n",
    "    surffix = [0] * n\n",
    "    for i in range(n):\n",
    "        prefix[i], surffix[i] = graph[i].strip().split(' -> ')\n",
    "        prefix[i], surffix[i] = int(prefix[i]), list(map(int, surffix[i].split(',')))\n",
    "    return prefix, surffix"
   ]
  },
  {
   "cell_type": "code",
   "execution_count": null,
   "id": "77ac30b5",
   "metadata": {},
   "outputs": [],
   "source": [
    "def graph_to_dictionary(prefix, surffix):\n",
    "    n = len(prefix)\n",
    "    dictionary = {}\n",
    "    for i in range(n):\n",
    "        if prefix[i] not in dictionary.keys():\n",
    "            dictionary[prefix[i]] = surffix[i]\n",
    "    return dictionary"
   ]
  },
  {
   "cell_type": "code",
   "execution_count": null,
   "id": "bdfffa34",
   "metadata": {},
   "outputs": [],
   "source": [
    "def remove_edge(dictionary, from_node, to_node):\n",
    "    dictionary[from_node].remove(to_node)\n",
    "    if not dictionary[from_node]:\n",
    "        del dictionary[from_node]\n",
    "    return dictionary"
   ]
  },
  {
   "cell_type": "code",
   "execution_count": null,
   "id": "53a765e2",
   "metadata": {},
   "outputs": [],
   "source": [
    "from random import choice\n",
    "def find_New_Cycle(dictionary):\n",
    "    \n",
    "    # Randomly choose a starting point\n",
    "    start_node, edges = choice(list(dictionary.items()))\n",
    "    target_node = choice(edges)\n",
    "    dictionary = remove_edge(dictionary, start_node, target_node)\n",
    "\n",
    "    cycle = [start_node, target_node]\n",
    "    # print(cycle)\n",
    "    current_node = target_node\n",
    "    while current_node != start_node:\n",
    "        edges = dictionary[current_node]\n",
    "        # extract one element in edges (if more than one nodes inside)\n",
    "        target_node = choice(edges)\n",
    "        dictionary = remove_edge(dictionary, current_node, target_node)\n",
    "        current_node = target_node\n",
    "        cycle.append(current_node)\n",
    "        # print(cycle)\n",
    "    return cycle"
   ]
  },
  {
   "cell_type": "code",
   "execution_count": null,
   "id": "30051af8",
   "metadata": {},
   "outputs": [],
   "source": [
    "def find_Eulerian_Cycle(dictionary):\n",
    "\n",
    "    cycle = find_New_Cycle(dictionary)\n",
    "    \n",
    "    # while dictionary is not empty, do the while loop\n",
    "    while dictionary:\n",
    "        # search for node with unused egdes in dictionary\n",
    "        potential_starts = [(index, node) for index, node in enumerate(cycle) if node in dictionary]\n",
    "        index, new_start = choice(potential_starts)\n",
    "\n",
    "        # form new cycle:\n",
    "        # start at new_start node chosen above and then randomly walking\n",
    "        new_cycle = cycle[index:] + cycle[1 : index + 1]   # change start node of the existing cycle\n",
    "\n",
    "        target_node = choice(dictionary[new_start])\n",
    "        dictionary = remove_edge(dictionary, new_start, target_node)\n",
    "        current_node = target_node\n",
    "        new_cycle.append(current_node)\n",
    "        \n",
    "        while current_node != new_start:\n",
    "            edges = dictionary[current_node]\n",
    "            target_node = choice(edges)\n",
    "            dictionary = remove_edge(dictionary, current_node, target_node)\n",
    "            current_node = target_node\n",
    "            new_cycle.append(current_node)\n",
    "        cycle = new_cycle\n",
    "\n",
    "    return cycle"
   ]
  },
  {
   "cell_type": "code",
   "execution_count": null,
   "id": "50f0080d",
   "metadata": {},
   "outputs": [],
   "source": [
    "def find_Eulerian_Path(dictionary):\n",
    "    \n",
    "    # Define a dictionary to discern which nodes have unbalanced degrees\n",
    "    degree_difference = {}\n",
    "    for initial_node, end_nodes in dictionary.items():\n",
    "        if initial_node in degree_difference:\n",
    "            degree_difference[initial_node] += len(end_nodes)\n",
    "        else:\n",
    "            degree_difference[initial_node] = len(end_nodes)\n",
    "        for end_node in end_nodes:\n",
    "            if end_node in degree_difference:\n",
    "                degree_difference[end_node] -= 1\n",
    "            else:\n",
    "                degree_difference[end_node] = -1\n",
    "    node_wo_outdegree = [node for node, difference in degree_difference.items() if difference == -1][0]\n",
    "    node_wo_indegree = [node for node, difference in degree_difference.items() if difference == 1][0]\n",
    "    \n",
    "    if node_wo_outdegree in dictionary:\n",
    "        dictionary[node_wo_outdegree].append(node_wo_indegree)\n",
    "    else:\n",
    "        dictionary[node_wo_outdegree] = [node_wo_indegree]\n",
    "\n",
    "    cycle = find_Eulerian_Cycle(dictionary)\n",
    "    index = 0\n",
    "    \n",
    "    # Modeify the cycle generated and reshape it as:\n",
    "    # node_without_indegree -> cycle -> node_without_ooutdegree\n",
    "    while True:\n",
    "        if cycle[index] == node_wo_outdegree and cycle[index + 1] == node_wo_indegree:\n",
    "            break\n",
    "        index += 1\n",
    "    return cycle[index + 1:] + cycle[1:index + 1]"
   ]
  },
  {
   "cell_type": "code",
   "execution_count": null,
   "id": "8e25fc24",
   "metadata": {},
   "outputs": [],
   "source": [
    "if __name__ == '__main__':\n",
    "    graph = read_In('rtext.txt')\n",
    "    prefix, surffix = split_Graph(graph)\n",
    "    dictionary = graph_to_dictionary(prefix, surffix)\n",
    "    eulerian_path = find_Eulerian_Path(dictionary)\n",
    "    print('->'.join(map(str, eulerian_path)))"
   ]
  }
 ],
 "metadata": {
  "kernelspec": {
   "display_name": "Python 3",
   "language": "python",
   "name": "python3"
  },
  "language_info": {
   "codemirror_mode": {
    "name": "ipython",
    "version": 3
   },
   "file_extension": ".py",
   "mimetype": "text/x-python",
   "name": "python",
   "nbconvert_exporter": "python",
   "pygments_lexer": "ipython3",
   "version": "3.8.8"
  }
 },
 "nbformat": 4,
 "nbformat_minor": 5
}
